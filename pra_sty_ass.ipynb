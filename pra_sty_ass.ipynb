{
 "cells": [
  {
   "cell_type": "markdown",
   "id": "e12513b0",
   "metadata": {},
   "source": [
    "# Assignment Questions_List"
   ]
  },
  {
   "cell_type": "code",
   "execution_count": 90,
   "id": "9799460c",
   "metadata": {},
   "outputs": [
    {
     "name": "stdout",
     "output_type": "stream",
     "text": [
      "comma-separated3,5,7,23\n",
      "List :  ['3', '5', '7', '23']\n",
      "Tuple :  ('3', '5', '7', '23')\n"
     ]
    }
   ],
   "source": [
    "input_data =input(\"comma-separated\")\n",
    "input_list = input_data.split(\",\")\n",
    "input_tuple = tuple(input_list)\n",
    "print(\"List : \", input_list)\n",
    "print(\"Tuple : \", input_tuple)"
   ]
  },
  {
   "cell_type": "code",
   "execution_count": 91,
   "id": "6950a24e",
   "metadata": {},
   "outputs": [
    {
     "name": "stdout",
     "output_type": "stream",
     "text": [
      "first_colour =  Red\n",
      "last_colour =  Black\n"
     ]
    }
   ],
   "source": [
    "color_list = [\"Red\",\"Green\",\"White\" ,\"Black\"]\n",
    "first_colour =color_list[0]\n",
    "last_colour =color_list[-1]\n",
    "print(\"first_colour = \",first_colour)\n",
    "print(\"last_colour = \",last_colour)"
   ]
  },
  {
   "cell_type": "code",
   "execution_count": 103,
   "id": "4c308e92",
   "metadata": {},
   "outputs": [
    {
     "name": "stdout",
     "output_type": "stream",
     "text": [
      "Even numbers: [2, 4, 6, 8]\n"
     ]
    }
   ],
   "source": [
    "Sample_List = [1, 2, 3, 4, 5, 6, 7, 8, 9]\n",
    "Even_num = [x for x in Sample_List if x % 2 == 0]\n",
    "print(\"Even numbers:\", Even_num)"
   ]
  },
  {
   "cell_type": "markdown",
   "id": "6147b251",
   "metadata": {},
   "source": [
    "# Module"
   ]
  },
  {
   "cell_type": "code",
   "execution_count": 3,
   "id": "94b01f7a",
   "metadata": {},
   "outputs": [
    {
     "name": "stdout",
     "output_type": "stream",
     "text": [
      "diff =  9 days\n"
     ]
    }
   ],
   "source": [
    "from datetime import date \n",
    "date1 = date(2014, 7, 2)\n",
    "date2 = date(2014, 7, 11)\n",
    "diff= date2 - date1\n",
    "print('diff = ',diff.days,'days')"
   ]
  },
  {
   "cell_type": "markdown",
   "id": "579b868e",
   "metadata": {},
   "source": [
    "# Functions"
   ]
  },
  {
   "cell_type": "code",
   "execution_count": 108,
   "id": "0da798a2",
   "metadata": {},
   "outputs": [
    {
     "name": "stdout",
     "output_type": "stream",
     "text": [
      "Volum_sphere =  904.7786842338604\n"
     ]
    }
   ],
   "source": [
    "import math\n",
    "R=6\n",
    "volume_sphere = (4/3)*(math.pi)*(R)*(R)*(R)\n",
    "print(\"Volum_sphere = \",volume_sphere)"
   ]
  },
  {
   "cell_type": "code",
   "execution_count": 115,
   "id": "6bd60a9a",
   "metadata": {},
   "outputs": [
    {
     "name": "stdout",
     "output_type": "stream",
     "text": [
      "18\n",
      "6\n"
     ]
    }
   ],
   "source": [
    "def sum_of_three_no(x1,x2,x3):\n",
    "    if x1==x2==x3:\n",
    "        return 3*(x1+x2+x3)\n",
    "    else:\n",
    "        return x1+x2+x3\n",
    "print(sum_of_three_no(2,2,2))\n",
    "print(sum_of_three_no(3,2,1))"
   ]
  },
  {
   "cell_type": "code",
   "execution_count": 117,
   "id": "ef5072f5",
   "metadata": {},
   "outputs": [
    {
     "name": "stdout",
     "output_type": "stream",
     "text": [
      "3\n"
     ]
    }
   ],
   "source": [
    "List = [1,4,6,8,4,9,4]\n",
    "count = List.count(4)\n",
    "print(count)"
   ]
  },
  {
   "cell_type": "code",
   "execution_count": 132,
   "id": "7e4b7a97",
   "metadata": {},
   "outputs": [
    {
     "name": "stdout",
     "output_type": "stream",
     "text": [
      "162\n",
      "758\n",
      "918\n"
     ]
    }
   ],
   "source": [
    "def even_no(lst):\n",
    "    for x in lst:\n",
    "        if x == 237:\n",
    "            break\n",
    "        elif x % 2 == 0:\n",
    "            print(x)\n",
    "my_lst = [399, 162, 758, 219, 918, 237, 412, 566, 826, 248, 866, 950, 626, 949, 687, 217, 815, 67, 104, 58, 512, 24, 892, 894, 767, 553, 81, 379, 843, 831, 445, 742, 717, 958, 743, 527]\n",
    "print_even_until_237(my_lst)"
   ]
  },
  {
   "cell_type": "code",
   "execution_count": 133,
   "id": "247a7505",
   "metadata": {},
   "outputs": [
    {
     "name": "stdout",
     "output_type": "stream",
     "text": [
      "1505\n",
      "1540\n",
      "1575\n",
      "1610\n",
      "1645\n",
      "1680\n",
      "1715\n",
      "1750\n",
      "1785\n",
      "1820\n",
      "1855\n",
      "1890\n",
      "1925\n",
      "1960\n",
      "1995\n",
      "2030\n",
      "2065\n",
      "2100\n",
      "2135\n",
      "2170\n",
      "2205\n",
      "2240\n",
      "2275\n",
      "2310\n",
      "2345\n",
      "2380\n",
      "2415\n",
      "2450\n",
      "2485\n",
      "2520\n",
      "2555\n",
      "2590\n",
      "2625\n",
      "2660\n",
      "2695\n"
     ]
    }
   ],
   "source": [
    "for x in range(1500 , 2701):\n",
    "    if x % 7 == 0 and x % 5 == 0 :\n",
    "        print(x)"
   ]
  },
  {
   "cell_type": "code",
   "execution_count": 140,
   "id": "7d436141",
   "metadata": {},
   "outputs": [
    {
     "name": "stdout",
     "output_type": "stream",
     "text": [
      "0 1 2 4 5 "
     ]
    }
   ],
   "source": [
    "for x in range(7):\n",
    "    if x == 3 or x == 6:\n",
    "        continue \n",
    "    print(x ,end=' ')"
   ]
  },
  {
   "cell_type": "code",
   "execution_count": 144,
   "id": "ef58e347",
   "metadata": {},
   "outputs": [
    {
     "name": "stdout",
     "output_type": "stream",
     "text": [
      "1 1 2 3 5 8 13 21 34 "
     ]
    }
   ],
   "source": [
    "a , b = 0, 1\n",
    "while b<50:\n",
    "    print(b,end=' ')\n",
    "    a,b=b,a+b    "
   ]
  },
  {
   "cell_type": "code",
   "execution_count": 147,
   "id": "36b89f42",
   "metadata": {},
   "outputs": [
    {
     "name": "stdout",
     "output_type": "stream",
     "text": [
      "[1, 2, 3, 4, 5]\n"
     ]
    }
   ],
   "source": [
    "Sample_List = [1,2,3,3,3,3,4,5]\n",
    "my_set = set(Sample_List)\n",
    "unique_list = list(my_set)\n",
    "print(unique_list)"
   ]
  },
  {
   "cell_type": "markdown",
   "id": "958f810e",
   "metadata": {},
   "source": [
    "# Strings"
   ]
  },
  {
   "cell_type": "code",
   "execution_count": 158,
   "id": "5d1b9313",
   "metadata": {},
   "outputs": [
    {
     "name": "stdout",
     "output_type": "stream",
     "text": [
      "  chatrapati shivaji maharaj ki jay\n"
     ]
    }
   ],
   "source": [
    "sample = ['chatrapati','shivaji','maharaj','ki','jay']\n",
    "concatenate = ' '\n",
    "for x in sample:\n",
    "    concatenate = concatenate +' '+ x\n",
    "print(concatenate)"
   ]
  },
  {
   "cell_type": "markdown",
   "id": "497a1c7f",
   "metadata": {},
   "source": [
    "# Dictionary"
   ]
  },
  {
   "cell_type": "code",
   "execution_count": 105,
   "id": "07d73626",
   "metadata": {},
   "outputs": [
    {
     "name": "stdout",
     "output_type": "stream",
     "text": [
      "{1: 10, 2: 20, 3: 30, 4: 40, 5: 50, 6: 60}\n"
     ]
    }
   ],
   "source": [
    "dic1={1:10, 2:20}\n",
    "dic2={3:30, 4:40}\n",
    "dic3={5:50,6:60}\n",
    "Expected_Result = dic1|dic2|dic3\n",
    "print(Expected_Result)"
   ]
  },
  {
   "cell_type": "markdown",
   "id": "2b883bc1",
   "metadata": {},
   "source": [
    "#  Series"
   ]
  },
  {
   "cell_type": "code",
   "execution_count": 157,
   "id": "e10af5e6",
   "metadata": {},
   "outputs": [
    {
     "name": "stdout",
     "output_type": "stream",
     "text": [
      "0     3\n",
      "1     7\n",
      "2    11\n",
      "3    15\n",
      "4    19\n",
      "dtype: int64\n",
      "0    1\n",
      "1    1\n",
      "2    1\n",
      "3    1\n",
      "4    1\n",
      "dtype: int64\n",
      "0     2\n",
      "1    12\n",
      "2    30\n",
      "3    56\n",
      "4    90\n",
      "dtype: int64\n",
      "0    2.000000\n",
      "1    1.333333\n",
      "2    1.200000\n",
      "3    1.142857\n",
      "4    1.111111\n",
      "dtype: float64\n"
     ]
    }
   ],
   "source": [
    "import pandas as pd\n",
    "s1 = pd.Series([2, 4, 6, 8, 10])\n",
    "s2 = pd.Series([1, 3, 5, 7, 9])\n",
    "\n",
    "#add\n",
    "add = s1+s2\n",
    "print(add)\n",
    "\n",
    "#subtract\n",
    "sub = s1-s2\n",
    "print(sub)\n",
    "\n",
    "#multiple\n",
    "mult = s1*s2\n",
    "print(mult)\n",
    "\n",
    "#divide \n",
    "div = s1/s2\n",
    "print(div)"
   ]
  },
  {
   "cell_type": "markdown",
   "id": "aed78dfb",
   "metadata": {},
   "source": [
    "# Data Frame"
   ]
  },
  {
   "cell_type": "code",
   "execution_count": 10,
   "id": "264720e8",
   "metadata": {},
   "outputs": [
    {
     "name": "stdout",
     "output_type": "stream",
     "text": [
      "      name  score\n",
      "b     Dima    9.0\n",
      "d    James    NaN\n",
      "f  Michael   20.0\n",
      "g  Matthew   14.5\n"
     ]
    }
   ],
   "source": [
    "import pandas as pd\n",
    "import numpy as np\n",
    "\n",
    "exam_data = {'name': ['Anastasia', 'Dima', 'Katherine', 'James', 'Emily', 'Michael', 'Matthew', 'Laura', 'Kevin', 'Jonas'],\n",
    "             'score': [12.5, 9, 16.5, np.nan, 9, 20, 14.5, np.nan, 8, 19],\n",
    "             'attempts': [1, 3, 2, 3, 2, 3, 1, 1, 2, 1],\n",
    "             'qualify': ['yes', 'no', 'yes', 'no', 'no', 'yes', 'yes', 'no', 'no', 'yes']}\n",
    "labels = ['a', 'b', 'c', 'd', 'e', 'f', 'g', 'h', 'i', 'j']\n",
    "df = pd.DataFrame(exam_data, index=labels)\n",
    "select_df = df.loc[['b','d','f','g'], ['name','score']]\n",
    "print(select_df)"
   ]
  },
  {
   "cell_type": "code",
   "execution_count": 71,
   "id": "b85341c5",
   "metadata": {},
   "outputs": [
    {
     "name": "stdout",
     "output_type": "stream",
     "text": [
      "Unnamed: 0      Murder  Assault  UrbanPop  Rape\n",
      "Alabama         13.2    236      58        21.2    1\n",
      "Pennsylvania    6.3     106      72        14.9    1\n",
      "Nevada          12.2    252      81        46.0    1\n",
      "New Hampshire   2.1     57       56        9.5     1\n",
      "New Jersey      7.4     159      89        18.8    1\n",
      "New Mexico      11.4    285      70        32.1    1\n",
      "New York        11.1    254      86        26.1    1\n",
      "North Carolina  13.0    337      45        16.1    1\n",
      "North Dakota    0.8     45       44        7.3     1\n",
      "Ohio            7.3     120      75        21.4    1\n",
      "Oklahoma        6.6     151      68        20.0    1\n",
      "Oregon          4.9     159      67        29.3    1\n",
      "Rhode Island    3.4     174      87        8.3     1\n",
      "Alaska          10.0    263      48        44.5    1\n",
      "South Carolina  14.4    279      48        22.5    1\n",
      "South Dakota    3.8     86       45        12.8    1\n",
      "Tennessee       13.2    188      59        26.9    1\n",
      "Texas           12.7    201      80        25.5    1\n",
      "Utah            3.2     120      80        22.9    1\n",
      "Vermont         2.2     48       32        11.2    1\n",
      "Virginia        8.5     156      63        20.7    1\n",
      "Washington      4.0     145      73        26.2    1\n",
      "West Virginia   5.7     81       39        9.3     1\n",
      "Wisconsin       2.6     53       66        10.8    1\n",
      "Nebraska        4.3     102      62        16.5    1\n",
      "Montana         6.0     109      53        16.4    1\n",
      "Missouri        9.0     178      70        28.2    1\n",
      "Mississippi     16.1    259      44        17.1    1\n",
      "Arizona         8.1     294      80        31.0    1\n",
      "Arkansas        8.8     190      50        19.5    1\n",
      "California      9.0     276      91        40.6    1\n",
      "Colorado        7.9     204      78        38.7    1\n",
      "Connecticut     3.3     110      77        11.1    1\n",
      "Delaware        5.9     238      72        15.8    1\n",
      "Florida         15.4    335      80        31.9    1\n",
      "Georgia         17.4    211      60        25.8    1\n",
      "Hawaii          5.3     46       83        20.2    1\n",
      "Idaho           2.6     120      54        14.2    1\n",
      "Illinois        10.4    249      83        24.0    1\n",
      "Indiana         7.2     113      65        21.0    1\n",
      "Iowa            2.2     56       57        11.3    1\n",
      "Kansas          6.0     115      66        18.0    1\n",
      "Kentucky        9.7     109      52        16.3    1\n",
      "Louisiana       15.4    249      66        22.2    1\n",
      "Maine           2.1     83       51        7.8     1\n",
      "Maryland        11.3    300      67        27.8    1\n",
      "Massachusetts   4.4     149      85        16.3    1\n",
      "Michigan        12.1    255      74        35.1    1\n",
      "Minnesota       2.7     72       66        14.9    1\n",
      "Wyoming         6.8     161      60        15.6    1\n",
      "dtype: int64\n"
     ]
    }
   ],
   "source": [
    "import pandas as pd\n",
    "import numpy as np\n",
    "import matplotlib.pyplot as plt\n",
    "import seaborn as sns\n",
    "cr = pd.read_csv('crime_data.csv')\n",
    "\n",
    "print(cr.value_counts())\n",
    "\n",
    "#histogram\n",
    "plt.hist(cr[\"     \"], \n",
    "         bins = 50,\n",
    "        )\n",
    "\n",
    "sns.distplot(cr[\"    \"], \n",
    "             bins=10\n",
    "#boxplot\n",
    "plt.boxplot(x='    ',\n",
    "            data=cr,\n",
    "           )\n",
    "             \n",
    "sns.boxplot(x=\"     \",\n",
    "           data=cr)\n",
    "#scatterplot\n",
    "plt.scatter(cr['    '],\n",
    "            cr['     '], alpha = 0.5\n",
    "           )\n",
    "             \n",
    "sns.scatterplot(x='    ', \n",
    "                y='cr', \n",
    "                data=tips_df\n",
    "               )\n",
    "\n",
    "#barplot\n",
    "plt.bar(x = cr[\"     \"], \n",
    "        height = cr[\"    \"]\n",
    "       )\n",
    "sns.barplot(x='   ',\n",
    "            y='    ',\n",
    "            data=cr, \n",
    "            palette='viridis'\n",
    "           )\n",
    "\n",
    "#piechart\n",
    "plt.pie(cr)\n"
   ]
  },
  {
   "cell_type": "code",
   "execution_count": 79,
   "id": "89c14b64",
   "metadata": {},
   "outputs": [
    {
     "data": {
      "text/html": [
       "<div>\n",
       "<style scoped>\n",
       "    .dataframe tbody tr th:only-of-type {\n",
       "        vertical-align: middle;\n",
       "    }\n",
       "\n",
       "    .dataframe tbody tr th {\n",
       "        vertical-align: top;\n",
       "    }\n",
       "\n",
       "    .dataframe thead th {\n",
       "        text-align: right;\n",
       "    }\n",
       "</style>\n",
       "<table border=\"1\" class=\"dataframe\">\n",
       "  <thead>\n",
       "    <tr style=\"text-align: right;\">\n",
       "      <th></th>\n",
       "      <th>mpg</th>\n",
       "      <th>cyl</th>\n",
       "      <th>disp</th>\n",
       "      <th>hp</th>\n",
       "      <th>drat</th>\n",
       "      <th>wt</th>\n",
       "      <th>qsec</th>\n",
       "      <th>vs</th>\n",
       "      <th>am</th>\n",
       "      <th>gear</th>\n",
       "      <th>carb</th>\n",
       "    </tr>\n",
       "  </thead>\n",
       "  <tbody>\n",
       "    <tr>\n",
       "      <th>0</th>\n",
       "      <td>21.0</td>\n",
       "      <td>6</td>\n",
       "      <td>160.0</td>\n",
       "      <td>110</td>\n",
       "      <td>3.90</td>\n",
       "      <td>2.620</td>\n",
       "      <td>16.46</td>\n",
       "      <td>0</td>\n",
       "      <td>1</td>\n",
       "      <td>4</td>\n",
       "      <td>4</td>\n",
       "    </tr>\n",
       "    <tr>\n",
       "      <th>1</th>\n",
       "      <td>21.0</td>\n",
       "      <td>6</td>\n",
       "      <td>160.0</td>\n",
       "      <td>110</td>\n",
       "      <td>3.90</td>\n",
       "      <td>2.875</td>\n",
       "      <td>17.02</td>\n",
       "      <td>0</td>\n",
       "      <td>1</td>\n",
       "      <td>4</td>\n",
       "      <td>4</td>\n",
       "    </tr>\n",
       "    <tr>\n",
       "      <th>2</th>\n",
       "      <td>22.8</td>\n",
       "      <td>4</td>\n",
       "      <td>108.0</td>\n",
       "      <td>93</td>\n",
       "      <td>3.85</td>\n",
       "      <td>2.320</td>\n",
       "      <td>18.61</td>\n",
       "      <td>1</td>\n",
       "      <td>1</td>\n",
       "      <td>4</td>\n",
       "      <td>1</td>\n",
       "    </tr>\n",
       "    <tr>\n",
       "      <th>3</th>\n",
       "      <td>21.4</td>\n",
       "      <td>6</td>\n",
       "      <td>258.0</td>\n",
       "      <td>110</td>\n",
       "      <td>3.08</td>\n",
       "      <td>3.215</td>\n",
       "      <td>19.44</td>\n",
       "      <td>1</td>\n",
       "      <td>0</td>\n",
       "      <td>3</td>\n",
       "      <td>1</td>\n",
       "    </tr>\n",
       "    <tr>\n",
       "      <th>4</th>\n",
       "      <td>18.7</td>\n",
       "      <td>8</td>\n",
       "      <td>360.0</td>\n",
       "      <td>175</td>\n",
       "      <td>3.15</td>\n",
       "      <td>3.440</td>\n",
       "      <td>17.02</td>\n",
       "      <td>0</td>\n",
       "      <td>0</td>\n",
       "      <td>3</td>\n",
       "      <td>2</td>\n",
       "    </tr>\n",
       "    <tr>\n",
       "      <th>5</th>\n",
       "      <td>18.1</td>\n",
       "      <td>6</td>\n",
       "      <td>225.0</td>\n",
       "      <td>105</td>\n",
       "      <td>2.76</td>\n",
       "      <td>3.460</td>\n",
       "      <td>20.22</td>\n",
       "      <td>1</td>\n",
       "      <td>0</td>\n",
       "      <td>3</td>\n",
       "      <td>1</td>\n",
       "    </tr>\n",
       "    <tr>\n",
       "      <th>6</th>\n",
       "      <td>14.3</td>\n",
       "      <td>8</td>\n",
       "      <td>360.0</td>\n",
       "      <td>245</td>\n",
       "      <td>3.21</td>\n",
       "      <td>3.570</td>\n",
       "      <td>15.84</td>\n",
       "      <td>0</td>\n",
       "      <td>0</td>\n",
       "      <td>3</td>\n",
       "      <td>4</td>\n",
       "    </tr>\n",
       "    <tr>\n",
       "      <th>7</th>\n",
       "      <td>24.4</td>\n",
       "      <td>4</td>\n",
       "      <td>146.7</td>\n",
       "      <td>62</td>\n",
       "      <td>3.69</td>\n",
       "      <td>3.190</td>\n",
       "      <td>20.00</td>\n",
       "      <td>1</td>\n",
       "      <td>0</td>\n",
       "      <td>4</td>\n",
       "      <td>2</td>\n",
       "    </tr>\n",
       "    <tr>\n",
       "      <th>8</th>\n",
       "      <td>22.8</td>\n",
       "      <td>4</td>\n",
       "      <td>140.8</td>\n",
       "      <td>95</td>\n",
       "      <td>3.92</td>\n",
       "      <td>3.150</td>\n",
       "      <td>22.90</td>\n",
       "      <td>1</td>\n",
       "      <td>0</td>\n",
       "      <td>4</td>\n",
       "      <td>2</td>\n",
       "    </tr>\n",
       "    <tr>\n",
       "      <th>9</th>\n",
       "      <td>19.2</td>\n",
       "      <td>6</td>\n",
       "      <td>167.6</td>\n",
       "      <td>123</td>\n",
       "      <td>3.92</td>\n",
       "      <td>3.440</td>\n",
       "      <td>18.30</td>\n",
       "      <td>1</td>\n",
       "      <td>0</td>\n",
       "      <td>4</td>\n",
       "      <td>4</td>\n",
       "    </tr>\n",
       "    <tr>\n",
       "      <th>16</th>\n",
       "      <td>14.7</td>\n",
       "      <td>8</td>\n",
       "      <td>440.0</td>\n",
       "      <td>230</td>\n",
       "      <td>3.23</td>\n",
       "      <td>5.345</td>\n",
       "      <td>17.42</td>\n",
       "      <td>0</td>\n",
       "      <td>0</td>\n",
       "      <td>3</td>\n",
       "      <td>4</td>\n",
       "    </tr>\n",
       "    <tr>\n",
       "      <th>17</th>\n",
       "      <td>32.4</td>\n",
       "      <td>4</td>\n",
       "      <td>78.7</td>\n",
       "      <td>66</td>\n",
       "      <td>4.08</td>\n",
       "      <td>2.200</td>\n",
       "      <td>19.47</td>\n",
       "      <td>1</td>\n",
       "      <td>1</td>\n",
       "      <td>4</td>\n",
       "      <td>1</td>\n",
       "    </tr>\n",
       "    <tr>\n",
       "      <th>18</th>\n",
       "      <td>30.4</td>\n",
       "      <td>4</td>\n",
       "      <td>75.7</td>\n",
       "      <td>52</td>\n",
       "      <td>4.93</td>\n",
       "      <td>1.615</td>\n",
       "      <td>18.52</td>\n",
       "      <td>1</td>\n",
       "      <td>1</td>\n",
       "      <td>4</td>\n",
       "      <td>2</td>\n",
       "    </tr>\n",
       "    <tr>\n",
       "      <th>19</th>\n",
       "      <td>33.9</td>\n",
       "      <td>4</td>\n",
       "      <td>71.1</td>\n",
       "      <td>65</td>\n",
       "      <td>4.22</td>\n",
       "      <td>1.835</td>\n",
       "      <td>19.90</td>\n",
       "      <td>1</td>\n",
       "      <td>1</td>\n",
       "      <td>4</td>\n",
       "      <td>1</td>\n",
       "    </tr>\n",
       "    <tr>\n",
       "      <th>20</th>\n",
       "      <td>21.5</td>\n",
       "      <td>4</td>\n",
       "      <td>120.1</td>\n",
       "      <td>97</td>\n",
       "      <td>3.70</td>\n",
       "      <td>2.465</td>\n",
       "      <td>20.01</td>\n",
       "      <td>1</td>\n",
       "      <td>0</td>\n",
       "      <td>3</td>\n",
       "      <td>1</td>\n",
       "    </tr>\n",
       "    <tr>\n",
       "      <th>21</th>\n",
       "      <td>15.5</td>\n",
       "      <td>8</td>\n",
       "      <td>318.0</td>\n",
       "      <td>150</td>\n",
       "      <td>2.76</td>\n",
       "      <td>3.520</td>\n",
       "      <td>16.87</td>\n",
       "      <td>0</td>\n",
       "      <td>0</td>\n",
       "      <td>3</td>\n",
       "      <td>2</td>\n",
       "    </tr>\n",
       "    <tr>\n",
       "      <th>22</th>\n",
       "      <td>15.2</td>\n",
       "      <td>8</td>\n",
       "      <td>304.0</td>\n",
       "      <td>150</td>\n",
       "      <td>3.15</td>\n",
       "      <td>3.435</td>\n",
       "      <td>17.30</td>\n",
       "      <td>0</td>\n",
       "      <td>0</td>\n",
       "      <td>3</td>\n",
       "      <td>2</td>\n",
       "    </tr>\n",
       "    <tr>\n",
       "      <th>23</th>\n",
       "      <td>13.3</td>\n",
       "      <td>8</td>\n",
       "      <td>350.0</td>\n",
       "      <td>245</td>\n",
       "      <td>3.73</td>\n",
       "      <td>3.840</td>\n",
       "      <td>15.41</td>\n",
       "      <td>0</td>\n",
       "      <td>0</td>\n",
       "      <td>3</td>\n",
       "      <td>4</td>\n",
       "    </tr>\n",
       "    <tr>\n",
       "      <th>24</th>\n",
       "      <td>19.2</td>\n",
       "      <td>8</td>\n",
       "      <td>400.0</td>\n",
       "      <td>175</td>\n",
       "      <td>3.08</td>\n",
       "      <td>3.845</td>\n",
       "      <td>17.05</td>\n",
       "      <td>0</td>\n",
       "      <td>0</td>\n",
       "      <td>3</td>\n",
       "      <td>2</td>\n",
       "    </tr>\n",
       "    <tr>\n",
       "      <th>25</th>\n",
       "      <td>27.3</td>\n",
       "      <td>4</td>\n",
       "      <td>79.0</td>\n",
       "      <td>66</td>\n",
       "      <td>4.08</td>\n",
       "      <td>1.935</td>\n",
       "      <td>18.90</td>\n",
       "      <td>1</td>\n",
       "      <td>1</td>\n",
       "      <td>4</td>\n",
       "      <td>1</td>\n",
       "    </tr>\n",
       "    <tr>\n",
       "      <th>26</th>\n",
       "      <td>26.0</td>\n",
       "      <td>4</td>\n",
       "      <td>120.3</td>\n",
       "      <td>91</td>\n",
       "      <td>4.43</td>\n",
       "      <td>2.140</td>\n",
       "      <td>16.70</td>\n",
       "      <td>0</td>\n",
       "      <td>1</td>\n",
       "      <td>5</td>\n",
       "      <td>2</td>\n",
       "    </tr>\n",
       "    <tr>\n",
       "      <th>27</th>\n",
       "      <td>30.4</td>\n",
       "      <td>4</td>\n",
       "      <td>95.1</td>\n",
       "      <td>113</td>\n",
       "      <td>3.77</td>\n",
       "      <td>1.513</td>\n",
       "      <td>16.90</td>\n",
       "      <td>1</td>\n",
       "      <td>1</td>\n",
       "      <td>5</td>\n",
       "      <td>2</td>\n",
       "    </tr>\n",
       "    <tr>\n",
       "      <th>28</th>\n",
       "      <td>15.8</td>\n",
       "      <td>8</td>\n",
       "      <td>351.0</td>\n",
       "      <td>264</td>\n",
       "      <td>4.22</td>\n",
       "      <td>3.170</td>\n",
       "      <td>14.50</td>\n",
       "      <td>0</td>\n",
       "      <td>1</td>\n",
       "      <td>5</td>\n",
       "      <td>4</td>\n",
       "    </tr>\n",
       "    <tr>\n",
       "      <th>29</th>\n",
       "      <td>19.7</td>\n",
       "      <td>6</td>\n",
       "      <td>145.0</td>\n",
       "      <td>175</td>\n",
       "      <td>3.62</td>\n",
       "      <td>2.770</td>\n",
       "      <td>15.50</td>\n",
       "      <td>0</td>\n",
       "      <td>1</td>\n",
       "      <td>5</td>\n",
       "      <td>6</td>\n",
       "    </tr>\n",
       "    <tr>\n",
       "      <th>30</th>\n",
       "      <td>15.0</td>\n",
       "      <td>8</td>\n",
       "      <td>301.0</td>\n",
       "      <td>335</td>\n",
       "      <td>3.54</td>\n",
       "      <td>3.570</td>\n",
       "      <td>14.60</td>\n",
       "      <td>0</td>\n",
       "      <td>1</td>\n",
       "      <td>5</td>\n",
       "      <td>8</td>\n",
       "    </tr>\n",
       "    <tr>\n",
       "      <th>31</th>\n",
       "      <td>21.4</td>\n",
       "      <td>4</td>\n",
       "      <td>121.0</td>\n",
       "      <td>109</td>\n",
       "      <td>4.11</td>\n",
       "      <td>2.780</td>\n",
       "      <td>18.60</td>\n",
       "      <td>1</td>\n",
       "      <td>1</td>\n",
       "      <td>4</td>\n",
       "      <td>2</td>\n",
       "    </tr>\n",
       "  </tbody>\n",
       "</table>\n",
       "</div>"
      ],
      "text/plain": [
       "     mpg  cyl   disp   hp  drat     wt   qsec  vs  am  gear  carb\n",
       "0   21.0    6  160.0  110  3.90  2.620  16.46   0   1     4     4\n",
       "1   21.0    6  160.0  110  3.90  2.875  17.02   0   1     4     4\n",
       "2   22.8    4  108.0   93  3.85  2.320  18.61   1   1     4     1\n",
       "3   21.4    6  258.0  110  3.08  3.215  19.44   1   0     3     1\n",
       "4   18.7    8  360.0  175  3.15  3.440  17.02   0   0     3     2\n",
       "5   18.1    6  225.0  105  2.76  3.460  20.22   1   0     3     1\n",
       "6   14.3    8  360.0  245  3.21  3.570  15.84   0   0     3     4\n",
       "7   24.4    4  146.7   62  3.69  3.190  20.00   1   0     4     2\n",
       "8   22.8    4  140.8   95  3.92  3.150  22.90   1   0     4     2\n",
       "9   19.2    6  167.6  123  3.92  3.440  18.30   1   0     4     4\n",
       "16  14.7    8  440.0  230  3.23  5.345  17.42   0   0     3     4\n",
       "17  32.4    4   78.7   66  4.08  2.200  19.47   1   1     4     1\n",
       "18  30.4    4   75.7   52  4.93  1.615  18.52   1   1     4     2\n",
       "19  33.9    4   71.1   65  4.22  1.835  19.90   1   1     4     1\n",
       "20  21.5    4  120.1   97  3.70  2.465  20.01   1   0     3     1\n",
       "21  15.5    8  318.0  150  2.76  3.520  16.87   0   0     3     2\n",
       "22  15.2    8  304.0  150  3.15  3.435  17.30   0   0     3     2\n",
       "23  13.3    8  350.0  245  3.73  3.840  15.41   0   0     3     4\n",
       "24  19.2    8  400.0  175  3.08  3.845  17.05   0   0     3     2\n",
       "25  27.3    4   79.0   66  4.08  1.935  18.90   1   1     4     1\n",
       "26  26.0    4  120.3   91  4.43  2.140  16.70   0   1     5     2\n",
       "27  30.4    4   95.1  113  3.77  1.513  16.90   1   1     5     2\n",
       "28  15.8    8  351.0  264  4.22  3.170  14.50   0   1     5     4\n",
       "29  19.7    6  145.0  175  3.62  2.770  15.50   0   1     5     6\n",
       "30  15.0    8  301.0  335  3.54  3.570  14.60   0   1     5     8\n",
       "31  21.4    4  121.0  109  4.11  2.780  18.60   1   1     4     2"
      ]
     },
     "execution_count": 79,
     "metadata": {},
     "output_type": "execute_result"
    }
   ],
   "source": [
    "import pandas as pd\n",
    "import numpy as np\n",
    "mtcars = pd.read_csv('mtcars.csv')\n",
    "\n",
    "mtcars.drop([10,11,12,13,14,15],axis=0)\n",
    "\n",
    "mtcars.drop(vol ,axis=1)\n",
    "\n"
   ]
  },
  {
   "cell_type": "code",
   "execution_count": 81,
   "id": "8997086f",
   "metadata": {},
   "outputs": [
    {
     "name": "stdout",
     "output_type": "stream",
     "text": [
      "<class 'pandas.core.frame.DataFrame'>\n",
      "RangeIndex: 45211 entries, 0 to 45210\n",
      "Data columns (total 1 columns):\n",
      " #   Column                                                                                                                                                Non-Null Count  Dtype \n",
      "---  ------                                                                                                                                                --------------  ----- \n",
      " 0   age;\"job\";\"marital\";\"education\";\"default\";\"balance\";\"housing\";\"loan\";\"contact\";\"day\";\"month\";\"duration\";\"campaign\";\"pdays\";\"previous\";\"poutcome\";\"y\"  45211 non-null  object\n",
      "dtypes: object(1)\n",
      "memory usage: 353.3+ KB\n"
     ]
    }
   ],
   "source": [
    "import pandas as pd\n",
    "import numpy as np\n",
    "bank_full = pd.read_csv('bank-full.csv')\n",
    "\n",
    "bank_full.info()"
   ]
  },
  {
   "cell_type": "code",
   "execution_count": null,
   "id": "24596c60",
   "metadata": {},
   "outputs": [],
   "source": []
  },
  {
   "cell_type": "code",
   "execution_count": null,
   "id": "d3032d97",
   "metadata": {},
   "outputs": [],
   "source": []
  },
  {
   "cell_type": "markdown",
   "id": "70aefbbb",
   "metadata": {},
   "source": [
    "# Basic Programs"
   ]
  },
  {
   "cell_type": "code",
   "execution_count": 82,
   "id": "2bd457b1",
   "metadata": {},
   "outputs": [
    {
     "name": "stdout",
     "output_type": "stream",
     "text": [
      "Addition:  15\n",
      "Subtraction:  5\n",
      "Multiplication:  50\n",
      "Division:  2.0\n",
      "Modulus:  0\n",
      "Exponentiation:  100000\n",
      "Floor Division:  2\n"
     ]
    }
   ],
   "source": [
    "a = 10\n",
    "b = 5\n",
    "print(\"Addition: \", a + b)\n",
    "print(\"Subtraction: \", a - b)\n",
    "print(\"Multiplication: \", a * b)\n",
    "print(\"Division: \", a / b)\n",
    "print(\"Modulus: \", a % b)\n",
    "print(\"Exponentiation: \", a ** b)  \n",
    "print(\"Floor Division: \", a // b)  "
   ]
  },
  {
   "cell_type": "code",
   "execution_count": 83,
   "id": "4cf61fbd",
   "metadata": {},
   "outputs": [
    {
     "name": "stdout",
     "output_type": "stream",
     "text": [
      "[0, 1, 2, 3, 4]\n",
      "[5, 6, 7, 8, 9]\n",
      "[0, 2, 4, 6, 8]\n",
      "[9, 8, 7, 6, 5, 4, 3, 2, 1, 0]\n"
     ]
    }
   ],
   "source": [
    "numbers = [0, 1, 2, 3, 4, 5, 6, 7, 8, 9]\n",
    "# slice the list to get the first five elements\n",
    "first_five = numbers[:5]\n",
    "print(first_five)\n",
    "# slice the list to get the last five elements\n",
    "last_five = numbers[-5:]\n",
    "print(last_five)\n",
    "# slice the list to get every other element\n",
    "every_other = numbers[::2]\n",
    "print(every_other)\n",
    "# slice the list to get the elements in reverse order\n",
    "reverse = numbers[::-1]\n",
    "print(reverse)"
   ]
  },
  {
   "cell_type": "code",
   "execution_count": 85,
   "id": "0bc961b5",
   "metadata": {},
   "outputs": [
    {
     "name": "stdout",
     "output_type": "stream",
     "text": [
      "Enter a number1\n",
      "Enter a number2\n",
      "Enter a number3\n",
      "Enter a number4\n",
      "Enter a number5\n",
      "Enter a number6\n",
      "Enter a number7\n",
      "Enter a number8\n",
      "Enter a number9\n",
      "Enter a number10\n",
      "Enter a number11\n",
      "Enter a number12\n",
      "Enter a number13\n",
      "Enter a number14\n",
      "sum 105\n"
     ]
    }
   ],
   "source": [
    "total = 0\n",
    "while total<100:\n",
    "    num = int(input(\"Enter a number\"))\n",
    "    total+=num\n",
    "print('sum',total)"
   ]
  },
  {
   "cell_type": "code",
   "execution_count": null,
   "id": "2c3522e8",
   "metadata": {},
   "outputs": [],
   "source": []
  },
  {
   "cell_type": "code",
   "execution_count": null,
   "id": "3c126d20",
   "metadata": {},
   "outputs": [],
   "source": []
  },
  {
   "cell_type": "code",
   "execution_count": 86,
   "id": "c8e6289b",
   "metadata": {},
   "outputs": [
    {
     "name": "stdout",
     "output_type": "stream",
     "text": [
      "[[ 2  3  4]\n",
      " [ 5  6  7]\n",
      " [ 8  9 10]]\n"
     ]
    }
   ],
   "source": [
    "import numpy as np\n",
    "mat =  np.arange(2, 11)\n",
    "matrix= mat.reshape(3,3)\n",
    "print(matrix)"
   ]
  },
  {
   "cell_type": "code",
   "execution_count": 87,
   "id": "e13c7be8",
   "metadata": {},
   "outputs": [
    {
     "name": "stdout",
     "output_type": "stream",
     "text": [
      "list_of_value: [1, 2, 3, 4, 5]\n",
      "numpy_of_array: [1 2 3 4 5]\n"
     ]
    }
   ],
   "source": [
    "import numpy as np\n",
    "value_list =[1,2,3,4,5]\n",
    "array_nyp = np.array(value_list)\n",
    "print(\"list_of_value:\",value_list)\n",
    "print(\"numpy_of_array:\",array_nyp)"
   ]
  },
  {
   "cell_type": "code",
   "execution_count": 93,
   "id": "9ab21507",
   "metadata": {},
   "outputs": [
    {
     "name": "stdout",
     "output_type": "stream",
     "text": [
      "[ 0.  0.  0.  0.  0. 11.  0.  0.  0.  0.]\n"
     ]
    }
   ],
   "source": [
    "import numpy as np\n",
    "null_vector = np.zeros(10)\n",
    "null_vector[5]=11\n",
    "print(null_vector)"
   ]
  },
  {
   "cell_type": "code",
   "execution_count": null,
   "id": "dabdf605",
   "metadata": {},
   "outputs": [],
   "source": []
  }
 ],
 "metadata": {
  "kernelspec": {
   "display_name": "Python 3 (ipykernel)",
   "language": "python",
   "name": "python3"
  },
  "language_info": {
   "codemirror_mode": {
    "name": "ipython",
    "version": 3
   },
   "file_extension": ".py",
   "mimetype": "text/x-python",
   "name": "python",
   "nbconvert_exporter": "python",
   "pygments_lexer": "ipython3",
   "version": "3.9.13"
  }
 },
 "nbformat": 4,
 "nbformat_minor": 5
}
